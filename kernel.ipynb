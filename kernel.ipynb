{
 "cells": [
  {
   "cell_type": "markdown",
   "metadata": {},
   "source": [
    "# Multiply two list by loop"
   ]
  },
  {
   "cell_type": "code",
   "execution_count": 1,
   "metadata": {},
   "outputs": [],
   "source": [
    "# Write your code here"
   ]
  },
  {
   "cell_type": "markdown",
   "metadata": {
    "_uuid": "0d684cf9ec45782df00abcdf7dfd170e4c5e4056"
   },
   "source": [
    "-----\n",
    "\n",
    "# Meal review - Basic data analysis\n",
    "-----\n",
    "This dataset consists of reviews of fine foods from amazon. The data span a period of more than 10 years, including all ~500,000 reviews up to October 2012. Reviews include product and user information, ratings, and a plaintext review. We also have reviews from all other Amazon categories.\n",
    "\n",
    "## Import library"
   ]
  },
  {
   "cell_type": "code",
   "execution_count": 2,
   "metadata": {
    "_cell_guid": "b1076dfc-b9ad-4769-8c92-a6c4dae69d19",
    "_uuid": "8f2839f25d086af736a60e9eeb907d3b93b6e0e5",
    "scrolled": true
   },
   "outputs": [
    {
     "name": "stdout",
     "output_type": "stream",
     "text": [
      "['test.py', 'Reviews.csv', 'database.sqlite', 'hashes.txt']\n"
     ]
    }
   ],
   "source": [
    "# This Python 3 environment comes with many helpful analytics libraries installed\n",
    "# It is defined by the kaggle/python docker image: https://github.com/kaggle/docker-python\n",
    "# For example, here's several helpful packages to load in \n",
    "\n",
    "import numpy as np # linear algebra\n",
    "import scipy as sp \n",
    "import pandas as pd # data processing, CSV file I/O (e.g. pd.read_csv)\n",
    "\n",
    "# Visualization\n",
    "import matplotlib.pyplot as plt\n",
    "import seaborn as sns\n",
    "\n",
    "# NLP tools\n",
    "import nltk\n",
    "\n",
    "# Input data files are available in the \"../input/\" directory.\n",
    "# For example, running this (by clicking run or pressing Shift+Enter) will list the files in the input directory\n",
    "\n",
    "import os\n",
    "print(os.listdir(\"./amazon-fine-food-reviews\"))\n",
    "\n",
    "# Any results you write to the current directory are saved as output."
   ]
  },
  {
   "cell_type": "markdown",
   "metadata": {
    "_uuid": "a34e5468f62a7280d054603611bed9e9588fc4f9"
   },
   "source": [
    "-----\n",
    "# Practice 1 - Peek for the dataset\n",
    "-----\n",
    "\n",
    "- Datapath = \"../input/Reviews.csv\"\n",
    "- Using **pandas** to do the following task\n"
   ]
  },
  {
   "cell_type": "markdown",
   "metadata": {
    "_uuid": "e6ac7ffacc2815db0b31715a23386cc5a7ae3bad"
   },
   "source": [
    "## 1.1 Using pandas to read data from the csv file"
   ]
  },
  {
   "cell_type": "code",
   "execution_count": 3,
   "metadata": {
    "_cell_guid": "79c7e3d0-c299-4dcb-8224-4455121ee9b0",
    "_uuid": "d629ff2d2480ee46fbb7e2d37f6b5fab8052498a",
    "scrolled": true
   },
   "outputs": [
    {
     "data": {
      "text/plain": [
       "pandas.core.frame.DataFrame"
      ]
     },
     "execution_count": 3,
     "metadata": {},
     "output_type": "execute_result"
    }
   ],
   "source": [
    "# The data path of input file\n",
    "data_path = \"./amazon-fine-food-reviews/Reviews.csv\"\n",
    "\n",
    "# Read csv file to pandas dataframe\n",
    "pd_data = pd.read_csv(data_path)\n",
    "\n",
    "type(pd_data)"
   ]
  },
  {
   "cell_type": "markdown",
   "metadata": {
    "_uuid": "687068d3fdd49e56fb72e5487ab39d3e4a8e9999"
   },
   "source": [
    "## 1.2 Preview the data\n",
    "-----\n",
    "## Preview the first 5 rows of the dataset\n"
   ]
  },
  {
   "cell_type": "code",
   "execution_count": 4,
   "metadata": {
    "_uuid": "397f6515495b6c9541191837ac4901d9affe4817",
    "scrolled": true
   },
   "outputs": [
    {
     "data": {
      "text/html": [
       "<div>\n",
       "<style scoped>\n",
       "    .dataframe tbody tr th:only-of-type {\n",
       "        vertical-align: middle;\n",
       "    }\n",
       "\n",
       "    .dataframe tbody tr th {\n",
       "        vertical-align: top;\n",
       "    }\n",
       "\n",
       "    .dataframe thead th {\n",
       "        text-align: right;\n",
       "    }\n",
       "</style>\n",
       "<table border=\"1\" class=\"dataframe\">\n",
       "  <thead>\n",
       "    <tr style=\"text-align: right;\">\n",
       "      <th></th>\n",
       "      <th>Id</th>\n",
       "      <th>ProductId</th>\n",
       "      <th>UserId</th>\n",
       "      <th>ProfileName</th>\n",
       "      <th>HelpfulnessNumerator</th>\n",
       "      <th>HelpfulnessDenominator</th>\n",
       "      <th>Score</th>\n",
       "      <th>Time</th>\n",
       "      <th>Summary</th>\n",
       "      <th>Text</th>\n",
       "    </tr>\n",
       "  </thead>\n",
       "  <tbody>\n",
       "    <tr>\n",
       "      <th>0</th>\n",
       "      <td>1</td>\n",
       "      <td>B001E4KFG0</td>\n",
       "      <td>A3SGXH7AUHU8GW</td>\n",
       "      <td>delmartian</td>\n",
       "      <td>1</td>\n",
       "      <td>1</td>\n",
       "      <td>5</td>\n",
       "      <td>1303862400</td>\n",
       "      <td>Good Quality Dog Food</td>\n",
       "      <td>I have bought several of the Vitality canned d...</td>\n",
       "    </tr>\n",
       "    <tr>\n",
       "      <th>1</th>\n",
       "      <td>2</td>\n",
       "      <td>B00813GRG4</td>\n",
       "      <td>A1D87F6ZCVE5NK</td>\n",
       "      <td>dll pa</td>\n",
       "      <td>0</td>\n",
       "      <td>0</td>\n",
       "      <td>1</td>\n",
       "      <td>1346976000</td>\n",
       "      <td>Not as Advertised</td>\n",
       "      <td>Product arrived labeled as Jumbo Salted Peanut...</td>\n",
       "    </tr>\n",
       "    <tr>\n",
       "      <th>2</th>\n",
       "      <td>3</td>\n",
       "      <td>B000LQOCH0</td>\n",
       "      <td>ABXLMWJIXXAIN</td>\n",
       "      <td>Natalia Corres \"Natalia Corres\"</td>\n",
       "      <td>1</td>\n",
       "      <td>1</td>\n",
       "      <td>4</td>\n",
       "      <td>1219017600</td>\n",
       "      <td>\"Delight\" says it all</td>\n",
       "      <td>This is a confection that has been around a fe...</td>\n",
       "    </tr>\n",
       "    <tr>\n",
       "      <th>3</th>\n",
       "      <td>4</td>\n",
       "      <td>B000UA0QIQ</td>\n",
       "      <td>A395BORC6FGVXV</td>\n",
       "      <td>Karl</td>\n",
       "      <td>3</td>\n",
       "      <td>3</td>\n",
       "      <td>2</td>\n",
       "      <td>1307923200</td>\n",
       "      <td>Cough Medicine</td>\n",
       "      <td>If you are looking for the secret ingredient i...</td>\n",
       "    </tr>\n",
       "    <tr>\n",
       "      <th>4</th>\n",
       "      <td>5</td>\n",
       "      <td>B006K2ZZ7K</td>\n",
       "      <td>A1UQRSCLF8GW1T</td>\n",
       "      <td>Michael D. Bigham \"M. Wassir\"</td>\n",
       "      <td>0</td>\n",
       "      <td>0</td>\n",
       "      <td>5</td>\n",
       "      <td>1350777600</td>\n",
       "      <td>Great taffy</td>\n",
       "      <td>Great taffy at a great price.  There was a wid...</td>\n",
       "    </tr>\n",
       "  </tbody>\n",
       "</table>\n",
       "</div>"
      ],
      "text/plain": [
       "   Id   ProductId          UserId                      ProfileName  \\\n",
       "0   1  B001E4KFG0  A3SGXH7AUHU8GW                       delmartian   \n",
       "1   2  B00813GRG4  A1D87F6ZCVE5NK                           dll pa   \n",
       "2   3  B000LQOCH0   ABXLMWJIXXAIN  Natalia Corres \"Natalia Corres\"   \n",
       "3   4  B000UA0QIQ  A395BORC6FGVXV                             Karl   \n",
       "4   5  B006K2ZZ7K  A1UQRSCLF8GW1T    Michael D. Bigham \"M. Wassir\"   \n",
       "\n",
       "   HelpfulnessNumerator  HelpfulnessDenominator  Score        Time  \\\n",
       "0                     1                       1      5  1303862400   \n",
       "1                     0                       0      1  1346976000   \n",
       "2                     1                       1      4  1219017600   \n",
       "3                     3                       3      2  1307923200   \n",
       "4                     0                       0      5  1350777600   \n",
       "\n",
       "                 Summary                                               Text  \n",
       "0  Good Quality Dog Food  I have bought several of the Vitality canned d...  \n",
       "1      Not as Advertised  Product arrived labeled as Jumbo Salted Peanut...  \n",
       "2  \"Delight\" says it all  This is a confection that has been around a fe...  \n",
       "3         Cough Medicine  If you are looking for the secret ingredient i...  \n",
       "4            Great taffy  Great taffy at a great price.  There was a wid...  "
      ]
     },
     "execution_count": 4,
     "metadata": {},
     "output_type": "execute_result"
    }
   ],
   "source": [
    "pd_data.head()"
   ]
  },
  {
   "cell_type": "markdown",
   "metadata": {
    "_uuid": "60a4db9018e62bf60de11b273faabefbb541831b"
   },
   "source": [
    "\n",
    "## The size of the dataset"
   ]
  },
  {
   "cell_type": "code",
   "execution_count": 5,
   "metadata": {
    "_uuid": "76703a80cac63e6b6aaf0703c67d0cc13c61145b"
   },
   "outputs": [
    {
     "data": {
      "text/plain": [
       "(568454, 10)"
      ]
     },
     "execution_count": 5,
     "metadata": {},
     "output_type": "execute_result"
    }
   ],
   "source": [
    "pd_data.shape"
   ]
  },
  {
   "cell_type": "markdown",
   "metadata": {
    "_uuid": "38d2b8171dc0811f6f363bd9e620a2d3279f37fd"
   },
   "source": [
    "## The column names"
   ]
  },
  {
   "cell_type": "code",
   "execution_count": 6,
   "metadata": {
    "_uuid": "61587be271408bb32c8113cc48ba95298b580abb"
   },
   "outputs": [
    {
     "data": {
      "text/plain": [
       "Index(['Id', 'ProductId', 'UserId', 'ProfileName', 'HelpfulnessNumerator',\n",
       "       'HelpfulnessDenominator', 'Score', 'Time', 'Summary', 'Text'],\n",
       "      dtype='object')"
      ]
     },
     "execution_count": 6,
     "metadata": {},
     "output_type": "execute_result"
    }
   ],
   "source": [
    "pd_data.columns"
   ]
  },
  {
   "cell_type": "markdown",
   "metadata": {
    "_uuid": "dfae953292fc1a61c384899c4bbaf8b8fd8bd93e"
   },
   "source": [
    "## Read one column from DataFrame\n",
    "- We read the column \"Score\" from dataframe \"pd_data\"\n",
    "- Now, we have the Series \"scores\" "
   ]
  },
  {
   "cell_type": "code",
   "execution_count": 7,
   "metadata": {
    "_uuid": "eda052aa9f852f2344fd20e824d9b31fdb82ce8c",
    "scrolled": true
   },
   "outputs": [
    {
     "data": {
      "text/plain": [
       "(0    5\n",
       " 1    1\n",
       " 2    4\n",
       " 3    2\n",
       " 4    5\n",
       " 5    4\n",
       " 6    5\n",
       " 7    5\n",
       " 8    5\n",
       " 9    5\n",
       " Name: Score, dtype: int64, pandas.core.series.Series)"
      ]
     },
     "execution_count": 7,
     "metadata": {},
     "output_type": "execute_result"
    }
   ],
   "source": [
    "scores = pd_data[\"Score\"]\n",
    "scores[:10], type(scores)"
   ]
  },
  {
   "cell_type": "markdown",
   "metadata": {
    "_uuid": "f861f36086ace86f261b85a3208ee7b93b9565f5"
   },
   "source": [
    "## Plot the distribution of the column \"Score\""
   ]
  },
  {
   "cell_type": "code",
   "execution_count": 8,
   "metadata": {
    "_uuid": "93a6bc72e83896874c41b7e32c5686cdcaf0cb23"
   },
   "outputs": [
    {
     "data": {
      "text/plain": [
       "<matplotlib.axes._subplots.AxesSubplot at 0x7f2a52275cf8>"
      ]
     },
     "execution_count": 8,
     "metadata": {},
     "output_type": "execute_result"
    }
   ],
   "source": [
    "pd_data['Score'].hist(bins=5)"
   ]
  },
  {
   "cell_type": "markdown",
   "metadata": {
    "_uuid": "b5e27a183651f355ffb6098e8d5f352b3d9f61a8"
   },
   "source": [
    "## Show the reviews by \"Seanna\""
   ]
  },
  {
   "cell_type": "code",
   "execution_count": 9,
   "metadata": {
    "_uuid": "bc164a7ec36d046208f675f4b9717e263765c9a9",
    "scrolled": true
   },
   "outputs": [
    {
     "data": {
      "text/html": [
       "<div>\n",
       "<style scoped>\n",
       "    .dataframe tbody tr th:only-of-type {\n",
       "        vertical-align: middle;\n",
       "    }\n",
       "\n",
       "    .dataframe tbody tr th {\n",
       "        vertical-align: top;\n",
       "    }\n",
       "\n",
       "    .dataframe thead th {\n",
       "        text-align: right;\n",
       "    }\n",
       "</style>\n",
       "<table border=\"1\" class=\"dataframe\">\n",
       "  <thead>\n",
       "    <tr style=\"text-align: right;\">\n",
       "      <th></th>\n",
       "      <th>Id</th>\n",
       "      <th>ProductId</th>\n",
       "      <th>UserId</th>\n",
       "      <th>ProfileName</th>\n",
       "      <th>HelpfulnessNumerator</th>\n",
       "      <th>HelpfulnessDenominator</th>\n",
       "      <th>Score</th>\n",
       "      <th>Time</th>\n",
       "      <th>Summary</th>\n",
       "      <th>Text</th>\n",
       "    </tr>\n",
       "  </thead>\n",
       "  <tbody>\n",
       "    <tr>\n",
       "      <th>16665</th>\n",
       "      <td>16666</td>\n",
       "      <td>B001LGGH40</td>\n",
       "      <td>A12E0Y0J6584RT</td>\n",
       "      <td>Seanna</td>\n",
       "      <td>0</td>\n",
       "      <td>0</td>\n",
       "      <td>4</td>\n",
       "      <td>1238544000</td>\n",
       "      <td>Switch to Something New!</td>\n",
       "      <td>Switch is a wonderful all natural carbonated f...</td>\n",
       "    </tr>\n",
       "    <tr>\n",
       "      <th>45607</th>\n",
       "      <td>45608</td>\n",
       "      <td>B0041NYV8E</td>\n",
       "      <td>A12E0Y0J6584RT</td>\n",
       "      <td>Seanna</td>\n",
       "      <td>6</td>\n",
       "      <td>8</td>\n",
       "      <td>4</td>\n",
       "      <td>1332201600</td>\n",
       "      <td>May I have a Cup of Ginger Please?</td>\n",
       "      <td>The Gold Kili Ginger &amp; Lemon Beverage is an al...</td>\n",
       "    </tr>\n",
       "    <tr>\n",
       "      <th>63358</th>\n",
       "      <td>63359</td>\n",
       "      <td>B002IEZJMA</td>\n",
       "      <td>A12E0Y0J6584RT</td>\n",
       "      <td>Seanna</td>\n",
       "      <td>0</td>\n",
       "      <td>0</td>\n",
       "      <td>4</td>\n",
       "      <td>1338768000</td>\n",
       "      <td>Only for those who enjoy the darker, richer si...</td>\n",
       "      <td>The Illy Issimo Caffe drink is dark, rich and ...</td>\n",
       "    </tr>\n",
       "    <tr>\n",
       "      <th>89684</th>\n",
       "      <td>89685</td>\n",
       "      <td>B002LANN56</td>\n",
       "      <td>A12E0Y0J6584RT</td>\n",
       "      <td>Seanna</td>\n",
       "      <td>0</td>\n",
       "      <td>0</td>\n",
       "      <td>5</td>\n",
       "      <td>1344643200</td>\n",
       "      <td>If I could give it 10 stars I would!</td>\n",
       "      <td>Chef Michael's Grilled Sirloin Dry Dog Food pu...</td>\n",
       "    </tr>\n",
       "    <tr>\n",
       "      <th>102412</th>\n",
       "      <td>102413</td>\n",
       "      <td>B001HTL2QE</td>\n",
       "      <td>A12E0Y0J6584RT</td>\n",
       "      <td>Seanna</td>\n",
       "      <td>0</td>\n",
       "      <td>0</td>\n",
       "      <td>4</td>\n",
       "      <td>1275696000</td>\n",
       "      <td>It's Water with a hint of Honeydew....</td>\n",
       "      <td>I recently purchased this water expecting to g...</td>\n",
       "    </tr>\n",
       "  </tbody>\n",
       "</table>\n",
       "</div>"
      ],
      "text/plain": [
       "            Id   ProductId          UserId ProfileName  HelpfulnessNumerator  \\\n",
       "16665    16666  B001LGGH40  A12E0Y0J6584RT      Seanna                     0   \n",
       "45607    45608  B0041NYV8E  A12E0Y0J6584RT      Seanna                     6   \n",
       "63358    63359  B002IEZJMA  A12E0Y0J6584RT      Seanna                     0   \n",
       "89684    89685  B002LANN56  A12E0Y0J6584RT      Seanna                     0   \n",
       "102412  102413  B001HTL2QE  A12E0Y0J6584RT      Seanna                     0   \n",
       "\n",
       "        HelpfulnessDenominator  Score        Time  \\\n",
       "16665                        0      4  1238544000   \n",
       "45607                        8      4  1332201600   \n",
       "63358                        0      4  1338768000   \n",
       "89684                        0      5  1344643200   \n",
       "102412                       0      4  1275696000   \n",
       "\n",
       "                                                  Summary  \\\n",
       "16665                            Switch to Something New!   \n",
       "45607                  May I have a Cup of Ginger Please?   \n",
       "63358   Only for those who enjoy the darker, richer si...   \n",
       "89684                If I could give it 10 stars I would!   \n",
       "102412             It's Water with a hint of Honeydew....   \n",
       "\n",
       "                                                     Text  \n",
       "16665   Switch is a wonderful all natural carbonated f...  \n",
       "45607   The Gold Kili Ginger & Lemon Beverage is an al...  \n",
       "63358   The Illy Issimo Caffe drink is dark, rich and ...  \n",
       "89684   Chef Michael's Grilled Sirloin Dry Dog Food pu...  \n",
       "102412  I recently purchased this water expecting to g...  "
      ]
     },
     "execution_count": 9,
     "metadata": {},
     "output_type": "execute_result"
    }
   ],
   "source": [
    "pd_data[pd_data.ProfileName == 'Seanna'].head(5)"
   ]
  },
  {
   "cell_type": "markdown",
   "metadata": {
    "_uuid": "992751b48eddee6225d821d09c268a8c2a0793b9"
   },
   "source": [
    "-----\n",
    "# Practice 2 - Text mining\n",
    "-----"
   ]
  },
  {
   "cell_type": "markdown",
   "metadata": {
    "_uuid": "f17884bc1c590ea34740089b247d6dfcbe3cc57c"
   },
   "source": [
    "## Labeling\n",
    "- Binary classification : positive(1) or negative (0)\n",
    "- If score is 5, label 1\n",
    "- Otherwise, label 0"
   ]
  },
  {
   "cell_type": "code",
   "execution_count": 10,
   "metadata": {
    "_uuid": "3920d52ef39eb790f48c5c85b498c659917f9b1a"
   },
   "outputs": [],
   "source": [
    "def mapping(x):\n",
    "    if x > 4:\n",
    "        return 1\n",
    "    if x <= 4:\n",
    "        return 0\n",
    "\n",
    "pd_data['label']= pd_data['Score'].apply(mapping)"
   ]
  },
  {
   "cell_type": "code",
   "execution_count": 11,
   "metadata": {
    "_uuid": "360992e2f85177165c403c65b5dd7e755f88d7ab",
    "scrolled": true
   },
   "outputs": [
    {
     "data": {
      "text/plain": [
       "1    363122\n",
       "0    205332\n",
       "Name: label, dtype: int64"
      ]
     },
     "execution_count": 11,
     "metadata": {},
     "output_type": "execute_result"
    }
   ],
   "source": [
    "pd_data['label'].value_counts()"
   ]
  },
  {
   "cell_type": "markdown",
   "metadata": {
    "_uuid": "51e288c1a39217ebf0404a57611e978e95892c5d"
   },
   "source": [
    "# Tokenize the sentences\n",
    "- Split the sentence to list of words\n",
    "    - By split\n",
    "    - By word_tokenize in nltk\n",
    "    - Lowercase and filter stopwords"
   ]
  },
  {
   "cell_type": "code",
   "execution_count": 12,
   "metadata": {
    "_uuid": "3a3fbce313edd083f6b488c339655410224ae91e"
   },
   "outputs": [],
   "source": [
    "texts = pd_data.Text.values\n",
    "\n",
    "### Tokenize the sentences (using \"split\" or \"nltk\")\n",
    "split_texts = [text.split(' ') for text in texts]\n",
    "nltk_texts = [nltk.word_tokenize(text) for text in texts]\n",
    "\n",
    "# Choose tokenized result (split/nltk)\n",
    "texts = nltk_texts\n",
    "\n",
    "labels = pd_data.label.values"
   ]
  },
  {
   "cell_type": "markdown",
   "metadata": {},
   "source": [
    "# Stopword removal"
   ]
  },
  {
   "cell_type": "code",
   "execution_count": 13,
   "metadata": {},
   "outputs": [],
   "source": [
    "# Read in stopword list from nltk\n",
    "stopwords = set(nltk.corpus.stopwords.words())\n",
    "\n",
    "nltk_stop_texts = []\n",
    "for text in nltk_texts:\n",
    "    nltk_stop_texts.append([word.lower() for word in text if word.lower() not in stopwords])\n",
    "    \n",
    "texts = nltk_stop_texts\n"
   ]
  },
  {
   "cell_type": "code",
   "execution_count": 14,
   "metadata": {},
   "outputs": [
    {
     "name": "stdout",
     "output_type": "stream",
     "text": [
      "Original sentence:\n",
      " I got a wild hair for taffy and ordered this five pound bag. The taffy was all very enjoyable with many flavors: watermelon, root beer, melon, peppermint, grape, etc. My only complaint is there was a bit too much red/black licorice-flavored pieces (just not my particular favorites). Between me, my kids, and my husband, this lasted only two weeks! I would recommend this brand of taffy -- it was a delightful treat.\n",
      "\n",
      "Tokenized by split:\n",
      " ['I', 'got', 'a', 'wild', 'hair', 'for', 'taffy', 'and', 'ordered', 'this', 'five', 'pound', 'bag.', 'The', 'taffy', 'was', 'all', 'very', 'enjoyable', 'with', 'many', 'flavors:', 'watermelon,', 'root', 'beer,', 'melon,', 'peppermint,', 'grape,', 'etc.', 'My', 'only', 'complaint', 'is', 'there', 'was', 'a', 'bit', 'too', 'much', 'red/black', 'licorice-flavored', 'pieces', '(just', 'not', 'my', 'particular', 'favorites).', 'Between', 'me,', 'my', 'kids,', 'and', 'my', 'husband,', 'this', 'lasted', 'only', 'two', 'weeks!', 'I', 'would', 'recommend', 'this', 'brand', 'of', 'taffy', '--', 'it', 'was', 'a', 'delightful', 'treat.']\n",
      "\n",
      "Tokenized by nltk:\n",
      " ['I', 'got', 'a', 'wild', 'hair', 'for', 'taffy', 'and', 'ordered', 'this', 'five', 'pound', 'bag', '.', 'The', 'taffy', 'was', 'all', 'very', 'enjoyable', 'with', 'many', 'flavors', ':', 'watermelon', ',', 'root', 'beer', ',', 'melon', ',', 'peppermint', ',', 'grape', ',', 'etc', '.', 'My', 'only', 'complaint', 'is', 'there', 'was', 'a', 'bit', 'too', 'much', 'red/black', 'licorice-flavored', 'pieces', '(', 'just', 'not', 'my', 'particular', 'favorites', ')', '.', 'Between', 'me', ',', 'my', 'kids', ',', 'and', 'my', 'husband', ',', 'this', 'lasted', 'only', 'two', 'weeks', '!', 'I', 'would', 'recommend', 'this', 'brand', 'of', 'taffy', '--', 'it', 'was', 'a', 'delightful', 'treat', '.']\n",
      "\n",
      "After stopwords removal:\n",
      " ['got', 'wild', 'hair', 'taffy', 'ordered', 'five', 'pound', 'bag', '.', 'taffy', 'enjoyable', 'many', 'flavors', ':', 'watermelon', ',', 'root', 'beer', ',', 'melon', ',', 'peppermint', ',', 'grape', ',', 'etc', '.', 'complaint', 'bit', 'much', 'red/black', 'licorice-flavored', 'pieces', '(', 'particular', 'favorites', ')', '.', ',', 'kids', ',', 'husband', ',', 'lasted', 'two', 'weeks', '!', 'would', 'recommend', 'brand', 'taffy', '--', 'delightful', 'treat', '.']\n",
      "\n"
     ]
    }
   ],
   "source": [
    "def show_sentences(index):\n",
    "    print(\"Original sentence:\\n %s\\n\" % pd_data.Text.values[index])\n",
    "    print(\"Tokenized by split:\\n %s\\n\" % split_texts[index])\n",
    "    print(\"Tokenized by nltk:\\n %s\\n\" % nltk_texts[index])\n",
    "    print(\"After stopwords removal:\\n %s\\n\" % nltk_stop_texts[index])\n",
    "\n",
    "show_sentences(5)"
   ]
  },
  {
   "cell_type": "markdown",
   "metadata": {},
   "source": [
    "# Split training and validation set"
   ]
  },
  {
   "cell_type": "code",
   "execution_count": 15,
   "metadata": {},
   "outputs": [],
   "source": [
    "def train_test_split(texts, labels, train_ratio):\n",
    "    \n",
    "    train_split = int(len(texts) * train_ratio)\n",
    "    train_texts = texts[:train_split]\n",
    "    train_labels = labels[:train_split]\n",
    "    valid_texts = texts[train_split:]\n",
    "    valid_labels = labels[train_split:]\n",
    "    return train_texts, train_labels, valid_texts, valid_labels\n",
    "\n",
    "train_texts, train_labels, valid_texts, valid_labels = train_test_split(nltk_texts, labels, 0.8)"
   ]
  },
  {
   "cell_type": "markdown",
   "metadata": {
    "_uuid": "4750fe2814eea410983b38e8e5421d5954897d76"
   },
   "source": [
    "# Word probability for each label\n",
    "- pos_counter : count if word is in a positive comment\n",
    "- neg_counter : count if word is in a negative comment\n",
    "- words : count if word exists"
   ]
  },
  {
   "cell_type": "code",
   "execution_count": 16,
   "metadata": {
    "_uuid": "6cca96f8e06c2e8fc352d11cb15747f0f4b366a4"
   },
   "outputs": [],
   "source": [
    "pos_counter = {}\n",
    "neg_counter = {}\n",
    "words = {}\n",
    "\n",
    "texts = train_texts\n",
    "labels = train_labels\n",
    "\n",
    "\n",
    "for text, label in zip(texts, labels):\n",
    "    for word in text:\n",
    "        if word in words:\n",
    "            words[word] += 1\n",
    "        else:\n",
    "            words[word] = 1\n",
    "            \n",
    "        if label == 1:\n",
    "            if word not in pos_counter:\n",
    "                pos_counter[word] = 1\n",
    "            else:\n",
    "                pos_counter[word] += 1\n",
    "        else:\n",
    "            if word not in neg_counter:\n",
    "                neg_counter[word] = 1\n",
    "            else:\n",
    "                neg_counter[word] += 1\n"
   ]
  },
  {
   "cell_type": "markdown",
   "metadata": {},
   "source": [
    "# Calculate the word energy\n",
    "- Word energy : pos_value / neg_value\n",
    "- Filter the word probability < threshold"
   ]
  },
  {
   "cell_type": "code",
   "execution_count": 17,
   "metadata": {
    "_uuid": "47d20b108936ebbf7ec8f41abd910cee0ca0d0b8"
   },
   "outputs": [],
   "source": [
    "energy = {}\n",
    "word_threhold = 500\n",
    "\n",
    "for word in words:\n",
    "    if words[word] > word_threhold:\n",
    "        if word in pos_counter:\n",
    "            pos_value = pos_counter[word]\n",
    "        else:\n",
    "            pos_value = 0\n",
    "\n",
    "        if word in neg_counter:\n",
    "            neg_value = neg_counter[word]\n",
    "        else:\n",
    "            neg_value = 0\n",
    "        \n",
    "        energy[word] = pos_value / (neg_value + 1e-10)"
   ]
  },
  {
   "cell_type": "markdown",
   "metadata": {},
   "source": [
    "# Word cloud for each label"
   ]
  },
  {
   "cell_type": "code",
   "execution_count": 18,
   "metadata": {
    "_uuid": "d5330b0da0fa3cba017833d4679b24e498338ac8"
   },
   "outputs": [],
   "source": [
    "pos_keywords = [v[0] for v in sorted(energy.items(), key=lambda v: v[1], reverse=True)][:50]\n",
    "neg_keywords = [v[0] for v in sorted(energy.items(), key=lambda v: v[1], reverse=False)][:50]"
   ]
  },
  {
   "cell_type": "code",
   "execution_count": 19,
   "metadata": {
    "_uuid": "7ed304c40771eb172e74b37e535e613949314e5a"
   },
   "outputs": [],
   "source": [
    "from wordcloud import WordCloud\n",
    "\n",
    "wordcloud = WordCloud().generate(' '.join(pos_keywords))"
   ]
  },
  {
   "cell_type": "code",
   "execution_count": 20,
   "metadata": {
    "_uuid": "8cd37df756960ab76a52365791469f47c4ce5bad",
    "scrolled": true
   },
   "outputs": [
    {
     "data": {
      "text/plain": [
       "(-0.5, 399.5, 199.5, -0.5)"
      ]
     },
     "execution_count": 20,
     "metadata": {},
     "output_type": "execute_result"
    },
    {
     "data": {
      "image/png": "[encoded data removed]",
      "text/plain": [
       "<matplotlib.figure.Figure at 0x7f28b34b7940>"
      ]
     },
     "metadata": {},
     "output_type": "display_data"
    }
   ],
   "source": [
    "import matplotlib.pyplot as plt\n",
    "%matplotlib inline\n",
    "\n",
    "plt.figure(figsize=(10, 10))\n",
    "plt.imshow(wordcloud, interpolation='bilinear')\n",
    "plt.axis(\"off\")"
   ]
  },
  {
   "cell_type": "markdown",
   "metadata": {},
   "source": [
    "# Calculate the sentence score\n",
    "- By summation of word score in sentence\n",
    "- Normalize to 0~1"
   ]
  },
  {
   "cell_type": "code",
   "execution_count": 31,
   "metadata": {
    "_uuid": "7ed70058ad535608a2cd54e097a2d3066b70dd6c"
   },
   "outputs": [],
   "source": [
    "def get_score(text):\n",
    "    score = 0\n",
    "    for word in text:\n",
    "        if word in energy:\n",
    "            score += energy[word]\n",
    "    return score/ len(text)\n",
    "\n",
    "train_scores = pd.Series([get_score(text) for text in train_texts])"
   ]
  },
  {
   "cell_type": "code",
   "execution_count": 32,
   "metadata": {
    "_uuid": "e0e626d0779c3e389040bba08db4d7179a3a891d"
   },
   "outputs": [],
   "source": [
    "train_scores = train_scores / train_scores.max()"
   ]
  },
  {
   "cell_type": "code",
   "execution_count": 33,
   "metadata": {
    "_uuid": "62fbd069ef42ffb47fbfd281049a8f9a15be443e"
   },
   "outputs": [
    {
     "data": {
      "text/plain": [
       "0     0.246249\n",
       "1     0.176938\n",
       "2     0.236469\n",
       "3     0.239609\n",
       "4     0.271647\n",
       "5     0.241862\n",
       "6     0.270037\n",
       "7     0.310791\n",
       "8     0.239275\n",
       "9     0.299896\n",
       "10    0.258798\n",
       "11    0.252634\n",
       "12    0.258219\n",
       "13    0.336196\n",
       "14    0.289383\n",
       "15    0.259573\n",
       "16    0.283694\n",
       "17    0.280418\n",
       "18    0.213303\n",
       "19    0.292136\n",
       "dtype: float64"
      ]
     },
     "execution_count": 33,
     "metadata": {},
     "output_type": "execute_result"
    }
   ],
   "source": [
    "train_scores[:20]"
   ]
  },
  {
   "cell_type": "markdown",
   "metadata": {},
   "source": [
    "## Searching the best threshold"
   ]
  },
  {
   "cell_type": "code",
   "execution_count": 38,
   "metadata": {
    "_uuid": "d64ce004db6243695b8a56f6fd1cbbf865f522b9"
   },
   "outputs": [
    {
     "data": {
      "image/png": "[encoded data removed]",
      "text/plain": [
       "<matplotlib.figure.Figure at 0x7f28b10c2160>"
      ]
     },
     "metadata": {},
     "output_type": "display_data"
    }
   ],
   "source": [
    "def threshold_searching(left=0, right=1, num_thresholds=101):\n",
    "    record = []\n",
    "    for i in np.linspace(left, right, num_thresholds):\n",
    "        record.append(((train_scores > i).astype('int') == train_labels).sum() / len(train_texts))\n",
    "    plt.title('Threshold Searching')\n",
    "    plt.xlabel('Threshold Value')\n",
    "    plt.ylabel('Accuracy')\n",
    "    plt.plot(np.linspace(left, right, num_thresholds), record)\n",
    "    best_train_threshold = np.linspace(left, right, num_thresholds)[record.index(max(record))]\n",
    "    best_train_accuracy = max(record)\n",
    "    return best_train_threshold, best_train_accuracy\n",
    "\n",
    "best_train_threshold, best_train_accuracy = threshold_searching()"
   ]
  },
  {
   "cell_type": "code",
   "execution_count": 40,
   "metadata": {},
   "outputs": [
    {
     "data": {
      "text/plain": [
       "0.6462428864202092"
      ]
     },
     "execution_count": 40,
     "metadata": {},
     "output_type": "execute_result"
    }
   ],
   "source": [
    "valid_scores = pd.Series([get_score(text) for text in valid_texts])\n",
    "valid_scores = valid_scores / valid_scores.max()\n",
    "\n",
    "valid_accuracy = ((valid_scores > best_train_threshold).astype('int') == valid_labels).sum() / len(valid_texts)\n",
    "valid_accuracy"
   ]
  },
  {
   "cell_type": "code",
   "execution_count": null,
   "metadata": {},
   "outputs": [],
   "source": []
  }
 ],
 "metadata": {
  "kernelspec": {
   "display_name": "Python 3",
   "language": "python",
   "name": "python3"
  },
  "language_info": {
   "codemirror_mode": {
    "name": "ipython",
    "version": 3
   },
   "file_extension": ".py",
   "mimetype": "text/x-python",
   "name": "python",
   "nbconvert_exporter": "python",
   "pygments_lexer": "ipython3",
   "version": "3.5.2"
  }
 },
 "nbformat": 4,
 "nbformat_minor": 1
}
